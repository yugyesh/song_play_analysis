{
 "cells": [
  {
   "cell_type": "markdown",
   "source": [
    "# ETL Processes\n",
    "Use this notebook to develop the ETL process for each of your tables before completing the `etl.py` file to load the whole datasets."
   ],
   "metadata": {}
  },
  {
   "cell_type": "code",
   "execution_count": 1,
   "source": [
    "import os\n",
    "import glob\n",
    "import psycopg2\n",
    "import pandas as pd\n",
    "from sql_queries import *\n",
    "import json"
   ],
   "outputs": [],
   "metadata": {}
  },
  {
   "cell_type": "code",
   "execution_count": 2,
   "source": [
    "conn = psycopg2.connect(\"host=127.0.0.1 dbname=sparkifydb user=postgres password=poklpokl\")\n",
    "cur = conn.cursor()"
   ],
   "outputs": [],
   "metadata": {}
  },
  {
   "cell_type": "code",
   "execution_count": 3,
   "source": [
    "def get_files(filepath):\n",
    "    all_files = []\n",
    "    for root, dirs, files in os.walk(filepath):\n",
    "        files = glob.glob(os.path.join(root,'*.json'))\n",
    "        for f in files :\n",
    "            all_files.append(os.path.abspath(f))\n",
    "    \n",
    "    return all_files"
   ],
   "outputs": [],
   "metadata": {}
  },
  {
   "cell_type": "markdown",
   "source": [
    "# Process `song_data`\n",
    "In this first part, you'll perform ETL on the first dataset, `song_data`, to create the `songs` and `artists` dimensional tables.\n",
    "\n",
    "Let's perform ETL on a single song file and load a single record into each table to start.\n",
    "- Use the `get_files` function provided above to get a list of all song JSON files in `data/song_data`\n",
    "- Select the first song in this list\n",
    "- Read the song file and view the data"
   ],
   "metadata": {}
  },
  {
   "cell_type": "code",
   "execution_count": 4,
   "source": [
    "song_files = get_files(\"data/song_data\")"
   ],
   "outputs": [],
   "metadata": {}
  },
  {
   "cell_type": "code",
   "execution_count": 5,
   "source": [
    "filepath = song_files[0]\n",
    "print(filepath)"
   ],
   "outputs": [
    {
     "output_type": "stream",
     "name": "stdout",
     "text": [
      "/home/intelligence/hustle/song_play_analysis/data/song_data/A/A/C/TRAACZK128F4243829.json\n"
     ]
    }
   ],
   "metadata": {}
  },
  {
   "cell_type": "code",
   "execution_count": 6,
   "source": [
    "print(filepath)\n",
    "df = pd.read_json(filepath, lines=True)\n",
    "df.head()"
   ],
   "outputs": [
    {
     "output_type": "stream",
     "name": "stdout",
     "text": [
      "/home/intelligence/hustle/song_play_analysis/data/song_data/A/A/C/TRAACZK128F4243829.json\n"
     ]
    },
    {
     "output_type": "execute_result",
     "data": {
      "text/plain": [
       "   num_songs           artist_id  artist_latitude  artist_longitude  \\\n",
       "0          1  ARGUVEV1187B98BA17              NaN               NaN   \n",
       "\n",
       "  artist_location     artist_name             song_id              title  \\\n",
       "0                  Sierra Maestra  SOGOSOV12AF72A285E  ¿Dónde va Chichi?   \n",
       "\n",
       "    duration  year  \n",
       "0  313.12934  1997  "
      ],
      "text/html": [
       "<div>\n",
       "<style scoped>\n",
       "    .dataframe tbody tr th:only-of-type {\n",
       "        vertical-align: middle;\n",
       "    }\n",
       "\n",
       "    .dataframe tbody tr th {\n",
       "        vertical-align: top;\n",
       "    }\n",
       "\n",
       "    .dataframe thead th {\n",
       "        text-align: right;\n",
       "    }\n",
       "</style>\n",
       "<table border=\"1\" class=\"dataframe\">\n",
       "  <thead>\n",
       "    <tr style=\"text-align: right;\">\n",
       "      <th></th>\n",
       "      <th>num_songs</th>\n",
       "      <th>artist_id</th>\n",
       "      <th>artist_latitude</th>\n",
       "      <th>artist_longitude</th>\n",
       "      <th>artist_location</th>\n",
       "      <th>artist_name</th>\n",
       "      <th>song_id</th>\n",
       "      <th>title</th>\n",
       "      <th>duration</th>\n",
       "      <th>year</th>\n",
       "    </tr>\n",
       "  </thead>\n",
       "  <tbody>\n",
       "    <tr>\n",
       "      <th>0</th>\n",
       "      <td>1</td>\n",
       "      <td>ARGUVEV1187B98BA17</td>\n",
       "      <td>NaN</td>\n",
       "      <td>NaN</td>\n",
       "      <td></td>\n",
       "      <td>Sierra Maestra</td>\n",
       "      <td>SOGOSOV12AF72A285E</td>\n",
       "      <td>¿Dónde va Chichi?</td>\n",
       "      <td>313.12934</td>\n",
       "      <td>1997</td>\n",
       "    </tr>\n",
       "  </tbody>\n",
       "</table>\n",
       "</div>"
      ]
     },
     "metadata": {},
     "execution_count": 6
    }
   ],
   "metadata": {}
  },
  {
   "cell_type": "markdown",
   "source": [
    "## #1: `songs` Table\n",
    "#### Extract Data for Songs Table\n",
    "- Select columns for song ID, title, artist ID, year, and duration\n",
    "- Use `df.values` to select just the values from the dataframe\n",
    "- Index to select the first (only) record in the dataframe\n",
    "- Convert the array to a list and set it to `song_data`"
   ],
   "metadata": {}
  },
  {
   "cell_type": "code",
   "execution_count": 7,
   "source": [
    "song_data = []\n",
    "song_data = [df.at[0, \"song_id\"], df.at[0, \"title\"], df.at[0, \"artist_id\"], int(df.at[0, \"year\"]), df.at[0, \"duration\"]]\n",
    "print(song_data)"
   ],
   "outputs": [
    {
     "output_type": "stream",
     "name": "stdout",
     "text": [
      "['SOGOSOV12AF72A285E', '¿Dónde va Chichi?', 'ARGUVEV1187B98BA17', 1997, 313.12934]\n"
     ]
    }
   ],
   "metadata": {}
  },
  {
   "cell_type": "markdown",
   "source": [
    "#### Insert Record into Song Table\n",
    "Implement the `song_table_insert` query in `sql_queries.py` and run the cell below to insert a record for this song into the `songs` table. Remember to run `create_tables.py` before running the cell below to ensure you've created/resetted the `songs` table in the sparkify database."
   ],
   "metadata": {}
  },
  {
   "cell_type": "code",
   "execution_count": 8,
   "source": [
    "cur.execute(song_table_insert, song_data)\n",
    "conn.commit()"
   ],
   "outputs": [
    {
     "output_type": "error",
     "ename": "UniqueViolation",
     "evalue": "duplicate key value violates unique constraint \"songs_pkey\"\nDETAIL:  Key (song_id)=(SOGOSOV12AF72A285E) already exists.\n",
     "traceback": [
      "\u001b[0;31m---------------------------------------------------------------------------\u001b[0m",
      "\u001b[0;31mUniqueViolation\u001b[0m                           Traceback (most recent call last)",
      "\u001b[0;32m/tmp/ipykernel_15721/1647106877.py\u001b[0m in \u001b[0;36m<module>\u001b[0;34m\u001b[0m\n\u001b[0;32m----> 1\u001b[0;31m \u001b[0mcur\u001b[0m\u001b[0;34m.\u001b[0m\u001b[0mexecute\u001b[0m\u001b[0;34m(\u001b[0m\u001b[0msong_table_insert\u001b[0m\u001b[0;34m,\u001b[0m \u001b[0msong_data\u001b[0m\u001b[0;34m)\u001b[0m\u001b[0;34m\u001b[0m\u001b[0;34m\u001b[0m\u001b[0m\n\u001b[0m\u001b[1;32m      2\u001b[0m \u001b[0mconn\u001b[0m\u001b[0;34m.\u001b[0m\u001b[0mcommit\u001b[0m\u001b[0;34m(\u001b[0m\u001b[0;34m)\u001b[0m\u001b[0;34m\u001b[0m\u001b[0;34m\u001b[0m\u001b[0m\n",
      "\u001b[0;31mUniqueViolation\u001b[0m: duplicate key value violates unique constraint \"songs_pkey\"\nDETAIL:  Key (song_id)=(SOGOSOV12AF72A285E) already exists.\n"
     ]
    }
   ],
   "metadata": {}
  },
  {
   "cell_type": "markdown",
   "source": [
    "Run `test.ipynb` to see if you've successfully added a record to this table."
   ],
   "metadata": {}
  },
  {
   "cell_type": "markdown",
   "source": [
    "## #2: `artists` Table\n",
    "#### Extract Data for Artists Table\n",
    "- Select columns for artist ID, name, location, latitude, and longitude\n",
    "- Use `df.values` to select just the values from the dataframe\n",
    "- Index to select the first (only) record in the dataframe\n",
    "- Convert the array to a list and set it to `artist_data`"
   ],
   "metadata": {}
  },
  {
   "cell_type": "code",
   "execution_count": null,
   "source": [
    "artist_data = [df.at[0, \"artist_id\"], df.at[0, \"artist_name\"], df.at[0, \"artist_location\"], df.at[0, \"artist_latitude\"], df.at[0, \"artist_latitude\"]]\n",
    "print(artist_data)"
   ],
   "outputs": [
    {
     "output_type": "stream",
     "name": "stdout",
     "text": [
      "['ARGUVEV1187B98BA17', 'Sierra Maestra', '', nan, nan]\n"
     ]
    }
   ],
   "metadata": {}
  },
  {
   "cell_type": "markdown",
   "source": [
    "#### Insert Record into Artist Table\n",
    "Implement the `artist_table_insert` query in `sql_queries.py` and run the cell below to insert a record for this song's artist into the `artists` table. Remember to run `create_tables.py` before running the cell below to ensure you've created/resetted the `artists` table in the sparkify database."
   ],
   "metadata": {}
  },
  {
   "cell_type": "code",
   "execution_count": null,
   "source": [
    "cur.execute(artist_table_insert, artist_data)\n",
    "conn.commit()"
   ],
   "outputs": [],
   "metadata": {}
  },
  {
   "cell_type": "markdown",
   "source": [
    "Run `test.ipynb` to see if you've successfully added a record to this table."
   ],
   "metadata": {}
  },
  {
   "cell_type": "markdown",
   "source": [
    "# Process `log_data`\n",
    "In this part, you'll perform ETL on the second dataset, `log_data`, to create the `time` and `users` dimensional tables, as well as the `songplays` fact table.\n",
    "\n",
    "Let's perform ETL on a single log file and load a single record into each table.\n",
    "- Use the `get_files` function provided above to get a list of all log JSON files in `data/log_data`\n",
    "- Select the first log file in this list\n",
    "- Read the log file and view the data"
   ],
   "metadata": {}
  },
  {
   "cell_type": "code",
   "execution_count": null,
   "source": [
    "log_files = get_files(\"data/log_data\")"
   ],
   "outputs": [],
   "metadata": {}
  },
  {
   "cell_type": "code",
   "execution_count": null,
   "source": [
    "filepath = log_files[0]\n",
    "print(filepath)"
   ],
   "outputs": [
    {
     "output_type": "stream",
     "name": "stdout",
     "text": [
      "/home/intelligence/hustle/song_play_analysis/data/log_data/2018/11/2018-11-17-events.json\n"
     ]
    }
   ],
   "metadata": {}
  },
  {
   "cell_type": "code",
   "execution_count": null,
   "source": [
    "\n",
    "df = pd.read_json(filepath, lines=True)\n",
    "df.head(10)\n",
    "# print(df.head())"
   ],
   "outputs": [
    {
     "output_type": "execute_result",
     "data": {
      "text/plain": [
       "                     artist       auth firstName gender  itemInSession  \\\n",
       "0                   Kenny G  Logged In     Chloe      F             53   \n",
       "1            Randy Crawford  Logged In     Chloe      F             54   \n",
       "2                   Placebo  Logged In     Chloe      F             55   \n",
       "3           Poison The Well  Logged In     Chloe      F             56   \n",
       "4             Justin Bieber  Logged In     Chloe      F             57   \n",
       "5           Type O Negative  Logged In     Chloe      F             58   \n",
       "6  The All-American Rejects  Logged In     Chloe      F             59   \n",
       "7                    Eminem  Logged In  Mohammad      M              0   \n",
       "8         Silversun Pickups  Logged In     Chloe      F             60   \n",
       "9                  Kid Rock  Logged In     Chloe      F             61   \n",
       "\n",
       "    lastName     length level                                 location method  \\\n",
       "0     Cuevas  256.57424  paid        San Francisco-Oakland-Hayward, CA    PUT   \n",
       "1     Cuevas  251.40200  paid        San Francisco-Oakland-Hayward, CA    PUT   \n",
       "2     Cuevas  224.02567  paid        San Francisco-Oakland-Hayward, CA    PUT   \n",
       "3     Cuevas  184.60689  paid        San Francisco-Oakland-Hayward, CA    PUT   \n",
       "4     Cuevas  196.88444  paid        San Francisco-Oakland-Hayward, CA    PUT   \n",
       "5     Cuevas  366.23628  paid        San Francisco-Oakland-Hayward, CA    PUT   \n",
       "6     Cuevas  260.15302  paid        San Francisco-Oakland-Hayward, CA    PUT   \n",
       "7  Rodriguez  252.73424  free  Sacramento--Roseville--Arden-Arcade, CA    PUT   \n",
       "8     Cuevas  353.61914  paid        San Francisco-Oakland-Hayward, CA    PUT   \n",
       "9     Cuevas  396.72118  paid        San Francisco-Oakland-Hayward, CA    PUT   \n",
       "\n",
       "       page  registration  sessionId  \\\n",
       "0  NextSong  1.540941e+12        648   \n",
       "1  NextSong  1.540941e+12        648   \n",
       "2  NextSong  1.540941e+12        648   \n",
       "3  NextSong  1.540941e+12        648   \n",
       "4  NextSong  1.540941e+12        648   \n",
       "5  NextSong  1.540941e+12        648   \n",
       "6  NextSong  1.540941e+12        648   \n",
       "7  NextSong  1.540512e+12        659   \n",
       "8  NextSong  1.540941e+12        648   \n",
       "9  NextSong  1.540941e+12        648   \n",
       "\n",
       "                                         song  status             ts  \\\n",
       "0                                 Everlasting     200  1542412944796   \n",
       "1         Rio De Janeiro Blue (Album Version)     200  1542413200796   \n",
       "2                          Breathe Underwater     200  1542413451796   \n",
       "3                                   Riverside     200  1542413675796   \n",
       "4                                     U Smile     200  1542413859796   \n",
       "5              Can't Lose You (Album Version)     200  1542414055796   \n",
       "6                               Happy Endings     200  1542414421796   \n",
       "7                     Still Don't Give A Fuck     200  1542414487796   \n",
       "8  Growing Old Is Getting Old (Album Version)     200  1542414681796   \n",
       "9                 New Orleans (Album Version)     200  1542415034796   \n",
       "\n",
       "                                           userAgent userId  \n",
       "0  Mozilla/5.0 (Windows NT 5.1; rv:31.0) Gecko/20...     49  \n",
       "1  Mozilla/5.0 (Windows NT 5.1; rv:31.0) Gecko/20...     49  \n",
       "2  Mozilla/5.0 (Windows NT 5.1; rv:31.0) Gecko/20...     49  \n",
       "3  Mozilla/5.0 (Windows NT 5.1; rv:31.0) Gecko/20...     49  \n",
       "4  Mozilla/5.0 (Windows NT 5.1; rv:31.0) Gecko/20...     49  \n",
       "5  Mozilla/5.0 (Windows NT 5.1; rv:31.0) Gecko/20...     49  \n",
       "6  Mozilla/5.0 (Windows NT 5.1; rv:31.0) Gecko/20...     49  \n",
       "7  \"Mozilla/5.0 (Macintosh; Intel Mac OS X 10_9_4...     88  \n",
       "8  Mozilla/5.0 (Windows NT 5.1; rv:31.0) Gecko/20...     49  \n",
       "9  Mozilla/5.0 (Windows NT 5.1; rv:31.0) Gecko/20...     49  "
      ],
      "text/html": [
       "<div>\n",
       "<style scoped>\n",
       "    .dataframe tbody tr th:only-of-type {\n",
       "        vertical-align: middle;\n",
       "    }\n",
       "\n",
       "    .dataframe tbody tr th {\n",
       "        vertical-align: top;\n",
       "    }\n",
       "\n",
       "    .dataframe thead th {\n",
       "        text-align: right;\n",
       "    }\n",
       "</style>\n",
       "<table border=\"1\" class=\"dataframe\">\n",
       "  <thead>\n",
       "    <tr style=\"text-align: right;\">\n",
       "      <th></th>\n",
       "      <th>artist</th>\n",
       "      <th>auth</th>\n",
       "      <th>firstName</th>\n",
       "      <th>gender</th>\n",
       "      <th>itemInSession</th>\n",
       "      <th>lastName</th>\n",
       "      <th>length</th>\n",
       "      <th>level</th>\n",
       "      <th>location</th>\n",
       "      <th>method</th>\n",
       "      <th>page</th>\n",
       "      <th>registration</th>\n",
       "      <th>sessionId</th>\n",
       "      <th>song</th>\n",
       "      <th>status</th>\n",
       "      <th>ts</th>\n",
       "      <th>userAgent</th>\n",
       "      <th>userId</th>\n",
       "    </tr>\n",
       "  </thead>\n",
       "  <tbody>\n",
       "    <tr>\n",
       "      <th>0</th>\n",
       "      <td>Kenny G</td>\n",
       "      <td>Logged In</td>\n",
       "      <td>Chloe</td>\n",
       "      <td>F</td>\n",
       "      <td>53</td>\n",
       "      <td>Cuevas</td>\n",
       "      <td>256.57424</td>\n",
       "      <td>paid</td>\n",
       "      <td>San Francisco-Oakland-Hayward, CA</td>\n",
       "      <td>PUT</td>\n",
       "      <td>NextSong</td>\n",
       "      <td>1.540941e+12</td>\n",
       "      <td>648</td>\n",
       "      <td>Everlasting</td>\n",
       "      <td>200</td>\n",
       "      <td>1542412944796</td>\n",
       "      <td>Mozilla/5.0 (Windows NT 5.1; rv:31.0) Gecko/20...</td>\n",
       "      <td>49</td>\n",
       "    </tr>\n",
       "    <tr>\n",
       "      <th>1</th>\n",
       "      <td>Randy Crawford</td>\n",
       "      <td>Logged In</td>\n",
       "      <td>Chloe</td>\n",
       "      <td>F</td>\n",
       "      <td>54</td>\n",
       "      <td>Cuevas</td>\n",
       "      <td>251.40200</td>\n",
       "      <td>paid</td>\n",
       "      <td>San Francisco-Oakland-Hayward, CA</td>\n",
       "      <td>PUT</td>\n",
       "      <td>NextSong</td>\n",
       "      <td>1.540941e+12</td>\n",
       "      <td>648</td>\n",
       "      <td>Rio De Janeiro Blue (Album Version)</td>\n",
       "      <td>200</td>\n",
       "      <td>1542413200796</td>\n",
       "      <td>Mozilla/5.0 (Windows NT 5.1; rv:31.0) Gecko/20...</td>\n",
       "      <td>49</td>\n",
       "    </tr>\n",
       "    <tr>\n",
       "      <th>2</th>\n",
       "      <td>Placebo</td>\n",
       "      <td>Logged In</td>\n",
       "      <td>Chloe</td>\n",
       "      <td>F</td>\n",
       "      <td>55</td>\n",
       "      <td>Cuevas</td>\n",
       "      <td>224.02567</td>\n",
       "      <td>paid</td>\n",
       "      <td>San Francisco-Oakland-Hayward, CA</td>\n",
       "      <td>PUT</td>\n",
       "      <td>NextSong</td>\n",
       "      <td>1.540941e+12</td>\n",
       "      <td>648</td>\n",
       "      <td>Breathe Underwater</td>\n",
       "      <td>200</td>\n",
       "      <td>1542413451796</td>\n",
       "      <td>Mozilla/5.0 (Windows NT 5.1; rv:31.0) Gecko/20...</td>\n",
       "      <td>49</td>\n",
       "    </tr>\n",
       "    <tr>\n",
       "      <th>3</th>\n",
       "      <td>Poison The Well</td>\n",
       "      <td>Logged In</td>\n",
       "      <td>Chloe</td>\n",
       "      <td>F</td>\n",
       "      <td>56</td>\n",
       "      <td>Cuevas</td>\n",
       "      <td>184.60689</td>\n",
       "      <td>paid</td>\n",
       "      <td>San Francisco-Oakland-Hayward, CA</td>\n",
       "      <td>PUT</td>\n",
       "      <td>NextSong</td>\n",
       "      <td>1.540941e+12</td>\n",
       "      <td>648</td>\n",
       "      <td>Riverside</td>\n",
       "      <td>200</td>\n",
       "      <td>1542413675796</td>\n",
       "      <td>Mozilla/5.0 (Windows NT 5.1; rv:31.0) Gecko/20...</td>\n",
       "      <td>49</td>\n",
       "    </tr>\n",
       "    <tr>\n",
       "      <th>4</th>\n",
       "      <td>Justin Bieber</td>\n",
       "      <td>Logged In</td>\n",
       "      <td>Chloe</td>\n",
       "      <td>F</td>\n",
       "      <td>57</td>\n",
       "      <td>Cuevas</td>\n",
       "      <td>196.88444</td>\n",
       "      <td>paid</td>\n",
       "      <td>San Francisco-Oakland-Hayward, CA</td>\n",
       "      <td>PUT</td>\n",
       "      <td>NextSong</td>\n",
       "      <td>1.540941e+12</td>\n",
       "      <td>648</td>\n",
       "      <td>U Smile</td>\n",
       "      <td>200</td>\n",
       "      <td>1542413859796</td>\n",
       "      <td>Mozilla/5.0 (Windows NT 5.1; rv:31.0) Gecko/20...</td>\n",
       "      <td>49</td>\n",
       "    </tr>\n",
       "    <tr>\n",
       "      <th>5</th>\n",
       "      <td>Type O Negative</td>\n",
       "      <td>Logged In</td>\n",
       "      <td>Chloe</td>\n",
       "      <td>F</td>\n",
       "      <td>58</td>\n",
       "      <td>Cuevas</td>\n",
       "      <td>366.23628</td>\n",
       "      <td>paid</td>\n",
       "      <td>San Francisco-Oakland-Hayward, CA</td>\n",
       "      <td>PUT</td>\n",
       "      <td>NextSong</td>\n",
       "      <td>1.540941e+12</td>\n",
       "      <td>648</td>\n",
       "      <td>Can't Lose You (Album Version)</td>\n",
       "      <td>200</td>\n",
       "      <td>1542414055796</td>\n",
       "      <td>Mozilla/5.0 (Windows NT 5.1; rv:31.0) Gecko/20...</td>\n",
       "      <td>49</td>\n",
       "    </tr>\n",
       "    <tr>\n",
       "      <th>6</th>\n",
       "      <td>The All-American Rejects</td>\n",
       "      <td>Logged In</td>\n",
       "      <td>Chloe</td>\n",
       "      <td>F</td>\n",
       "      <td>59</td>\n",
       "      <td>Cuevas</td>\n",
       "      <td>260.15302</td>\n",
       "      <td>paid</td>\n",
       "      <td>San Francisco-Oakland-Hayward, CA</td>\n",
       "      <td>PUT</td>\n",
       "      <td>NextSong</td>\n",
       "      <td>1.540941e+12</td>\n",
       "      <td>648</td>\n",
       "      <td>Happy Endings</td>\n",
       "      <td>200</td>\n",
       "      <td>1542414421796</td>\n",
       "      <td>Mozilla/5.0 (Windows NT 5.1; rv:31.0) Gecko/20...</td>\n",
       "      <td>49</td>\n",
       "    </tr>\n",
       "    <tr>\n",
       "      <th>7</th>\n",
       "      <td>Eminem</td>\n",
       "      <td>Logged In</td>\n",
       "      <td>Mohammad</td>\n",
       "      <td>M</td>\n",
       "      <td>0</td>\n",
       "      <td>Rodriguez</td>\n",
       "      <td>252.73424</td>\n",
       "      <td>free</td>\n",
       "      <td>Sacramento--Roseville--Arden-Arcade, CA</td>\n",
       "      <td>PUT</td>\n",
       "      <td>NextSong</td>\n",
       "      <td>1.540512e+12</td>\n",
       "      <td>659</td>\n",
       "      <td>Still Don't Give A Fuck</td>\n",
       "      <td>200</td>\n",
       "      <td>1542414487796</td>\n",
       "      <td>\"Mozilla/5.0 (Macintosh; Intel Mac OS X 10_9_4...</td>\n",
       "      <td>88</td>\n",
       "    </tr>\n",
       "    <tr>\n",
       "      <th>8</th>\n",
       "      <td>Silversun Pickups</td>\n",
       "      <td>Logged In</td>\n",
       "      <td>Chloe</td>\n",
       "      <td>F</td>\n",
       "      <td>60</td>\n",
       "      <td>Cuevas</td>\n",
       "      <td>353.61914</td>\n",
       "      <td>paid</td>\n",
       "      <td>San Francisco-Oakland-Hayward, CA</td>\n",
       "      <td>PUT</td>\n",
       "      <td>NextSong</td>\n",
       "      <td>1.540941e+12</td>\n",
       "      <td>648</td>\n",
       "      <td>Growing Old Is Getting Old (Album Version)</td>\n",
       "      <td>200</td>\n",
       "      <td>1542414681796</td>\n",
       "      <td>Mozilla/5.0 (Windows NT 5.1; rv:31.0) Gecko/20...</td>\n",
       "      <td>49</td>\n",
       "    </tr>\n",
       "    <tr>\n",
       "      <th>9</th>\n",
       "      <td>Kid Rock</td>\n",
       "      <td>Logged In</td>\n",
       "      <td>Chloe</td>\n",
       "      <td>F</td>\n",
       "      <td>61</td>\n",
       "      <td>Cuevas</td>\n",
       "      <td>396.72118</td>\n",
       "      <td>paid</td>\n",
       "      <td>San Francisco-Oakland-Hayward, CA</td>\n",
       "      <td>PUT</td>\n",
       "      <td>NextSong</td>\n",
       "      <td>1.540941e+12</td>\n",
       "      <td>648</td>\n",
       "      <td>New Orleans (Album Version)</td>\n",
       "      <td>200</td>\n",
       "      <td>1542415034796</td>\n",
       "      <td>Mozilla/5.0 (Windows NT 5.1; rv:31.0) Gecko/20...</td>\n",
       "      <td>49</td>\n",
       "    </tr>\n",
       "  </tbody>\n",
       "</table>\n",
       "</div>"
      ]
     },
     "metadata": {},
     "execution_count": 13
    }
   ],
   "metadata": {}
  },
  {
   "cell_type": "markdown",
   "source": [
    "## #3: `time` Table\n",
    "#### Extract Data for Time Table\n",
    "- Filter records by `NextSong` action\n",
    "- Convert the `ts` timestamp column to datetime\n",
    "  - Hint: the current timestamp is in milliseconds\n",
    "- Extract the timestamp, hour, day, week of year, month, year, and weekday from the `ts` column and set `time_data` to a list containing these values in order\n",
    "  - Hint: use pandas' [`dt` attribute](https://pandas.pydata.org/pandas-docs/stable/reference/api/pandas.Series.dt.html) to access easily datetimelike properties.\n",
    "- Specify labels for these columns and set to `column_labels`\n",
    "- Create a dataframe, `time_df,` containing the time data for this file by combining `column_labels` and `time_data` into a dictionary and converting this into a dataframe"
   ],
   "metadata": {}
  },
  {
   "cell_type": "code",
   "execution_count": null,
   "source": [
    "df = df[df.page.eq(\"NextSong\")]\n",
    "df.head()\n",
    "print(df.shape)"
   ],
   "outputs": [
    {
     "output_type": "stream",
     "name": "stdout",
     "text": [
      "(127, 18)\n"
     ]
    }
   ],
   "metadata": {}
  },
  {
   "cell_type": "code",
   "execution_count": null,
   "source": [
    "t = pd.to_datetime(df.ts, unit='ms')\n",
    "t.head()"
   ],
   "outputs": [
    {
     "output_type": "execute_result",
     "data": {
      "text/plain": [
       "0   2018-11-17 00:02:24.796\n",
       "1   2018-11-17 00:06:40.796\n",
       "2   2018-11-17 00:10:51.796\n",
       "3   2018-11-17 00:14:35.796\n",
       "4   2018-11-17 00:17:39.796\n",
       "Name: ts, dtype: datetime64[ns]"
      ]
     },
     "metadata": {},
     "execution_count": 15
    }
   ],
   "metadata": {}
  },
  {
   "cell_type": "code",
   "execution_count": null,
   "source": [
    "df[\"timestamp\"] = t\n",
    "df[\"hour\"] = t.dt.hour\n",
    "df[\"day\"] = t.dt.day\n",
    "df[\"week\"] = t.dt.hour\n",
    "df[\"month\"] = t.dt.month\n",
    "df[\"year\"] = t.dt.year\n",
    "df[\"day_name\"] = t.dt.day_name()"
   ],
   "outputs": [],
   "metadata": {}
  },
  {
   "cell_type": "code",
   "execution_count": null,
   "source": [
    "time_df = df[[\"timestamp\", \"hour\", \"day\", \"week\", \"month\", \"year\", \"day_name\"]]\n",
    "time_df.head()"
   ],
   "outputs": [
    {
     "output_type": "execute_result",
     "data": {
      "text/plain": [
       "                timestamp  hour  day  week  month  year  day_name\n",
       "0 2018-11-17 00:02:24.796     0   17     0     11  2018  Saturday\n",
       "1 2018-11-17 00:06:40.796     0   17     0     11  2018  Saturday\n",
       "2 2018-11-17 00:10:51.796     0   17     0     11  2018  Saturday\n",
       "3 2018-11-17 00:14:35.796     0   17     0     11  2018  Saturday\n",
       "4 2018-11-17 00:17:39.796     0   17     0     11  2018  Saturday"
      ],
      "text/html": [
       "<div>\n",
       "<style scoped>\n",
       "    .dataframe tbody tr th:only-of-type {\n",
       "        vertical-align: middle;\n",
       "    }\n",
       "\n",
       "    .dataframe tbody tr th {\n",
       "        vertical-align: top;\n",
       "    }\n",
       "\n",
       "    .dataframe thead th {\n",
       "        text-align: right;\n",
       "    }\n",
       "</style>\n",
       "<table border=\"1\" class=\"dataframe\">\n",
       "  <thead>\n",
       "    <tr style=\"text-align: right;\">\n",
       "      <th></th>\n",
       "      <th>timestamp</th>\n",
       "      <th>hour</th>\n",
       "      <th>day</th>\n",
       "      <th>week</th>\n",
       "      <th>month</th>\n",
       "      <th>year</th>\n",
       "      <th>day_name</th>\n",
       "    </tr>\n",
       "  </thead>\n",
       "  <tbody>\n",
       "    <tr>\n",
       "      <th>0</th>\n",
       "      <td>2018-11-17 00:02:24.796</td>\n",
       "      <td>0</td>\n",
       "      <td>17</td>\n",
       "      <td>0</td>\n",
       "      <td>11</td>\n",
       "      <td>2018</td>\n",
       "      <td>Saturday</td>\n",
       "    </tr>\n",
       "    <tr>\n",
       "      <th>1</th>\n",
       "      <td>2018-11-17 00:06:40.796</td>\n",
       "      <td>0</td>\n",
       "      <td>17</td>\n",
       "      <td>0</td>\n",
       "      <td>11</td>\n",
       "      <td>2018</td>\n",
       "      <td>Saturday</td>\n",
       "    </tr>\n",
       "    <tr>\n",
       "      <th>2</th>\n",
       "      <td>2018-11-17 00:10:51.796</td>\n",
       "      <td>0</td>\n",
       "      <td>17</td>\n",
       "      <td>0</td>\n",
       "      <td>11</td>\n",
       "      <td>2018</td>\n",
       "      <td>Saturday</td>\n",
       "    </tr>\n",
       "    <tr>\n",
       "      <th>3</th>\n",
       "      <td>2018-11-17 00:14:35.796</td>\n",
       "      <td>0</td>\n",
       "      <td>17</td>\n",
       "      <td>0</td>\n",
       "      <td>11</td>\n",
       "      <td>2018</td>\n",
       "      <td>Saturday</td>\n",
       "    </tr>\n",
       "    <tr>\n",
       "      <th>4</th>\n",
       "      <td>2018-11-17 00:17:39.796</td>\n",
       "      <td>0</td>\n",
       "      <td>17</td>\n",
       "      <td>0</td>\n",
       "      <td>11</td>\n",
       "      <td>2018</td>\n",
       "      <td>Saturday</td>\n",
       "    </tr>\n",
       "  </tbody>\n",
       "</table>\n",
       "</div>"
      ]
     },
     "metadata": {},
     "execution_count": 17
    }
   ],
   "metadata": {}
  },
  {
   "cell_type": "markdown",
   "source": [
    "#### Insert Records into Time Table\n",
    "Implement the `time_table_insert` query in `sql_queries.py` and run the cell below to insert records for the timestamps in this log file into the `time` table. Remember to run `create_tables.py` before running the cell below to ensure you've created/resetted the `time` table in the sparkify database."
   ],
   "metadata": {}
  },
  {
   "cell_type": "code",
   "execution_count": null,
   "source": [
    "for i, row in time_df.iterrows():\n",
    "    cur.execute(time_table_insert, row)\n",
    "    conn.commit()"
   ],
   "outputs": [],
   "metadata": {}
  },
  {
   "cell_type": "markdown",
   "source": [
    "Run `test.ipynb` to see if you've successfully added records to this table."
   ],
   "metadata": {}
  },
  {
   "cell_type": "markdown",
   "source": [
    "## #4: `users` Table\n",
    "#### Extract Data for Users Table\n",
    "- Select columns for user ID, first name, last name, gender and level and set to `user_df`"
   ],
   "metadata": {}
  },
  {
   "cell_type": "code",
   "execution_count": null,
   "source": [
    "user_df = df[[\"userId\", \"firstName\", \"lastName\", \"gender\", \"level\"]]\n",
    "user_df = user_df.drop_duplicates()\n",
    "\n",
    "# Filter for empty user id\n",
    "user_df = user_df[user_df['userId'] != '']\n",
    "\n",
    "#Change column header names\n",
    "user_df.columns = ['user_id', 'first_name', 'last_name', 'gender', 'level']\n",
    "\n",
    "user_df.head()"
   ],
   "outputs": [
    {
     "output_type": "execute_result",
     "data": {
      "text/plain": [
       "   user_id first_name  last_name gender level\n",
       "0       49      Chloe     Cuevas      F  paid\n",
       "7       88   Mohammad  Rodriguez      M  free\n",
       "23      10     Sylvie       Cruz      F  free\n",
       "24      54      Kaleb       Cook      M  free\n",
       "32      33    Bronson     Harris      M  free"
      ],
      "text/html": [
       "<div>\n",
       "<style scoped>\n",
       "    .dataframe tbody tr th:only-of-type {\n",
       "        vertical-align: middle;\n",
       "    }\n",
       "\n",
       "    .dataframe tbody tr th {\n",
       "        vertical-align: top;\n",
       "    }\n",
       "\n",
       "    .dataframe thead th {\n",
       "        text-align: right;\n",
       "    }\n",
       "</style>\n",
       "<table border=\"1\" class=\"dataframe\">\n",
       "  <thead>\n",
       "    <tr style=\"text-align: right;\">\n",
       "      <th></th>\n",
       "      <th>user_id</th>\n",
       "      <th>first_name</th>\n",
       "      <th>last_name</th>\n",
       "      <th>gender</th>\n",
       "      <th>level</th>\n",
       "    </tr>\n",
       "  </thead>\n",
       "  <tbody>\n",
       "    <tr>\n",
       "      <th>0</th>\n",
       "      <td>49</td>\n",
       "      <td>Chloe</td>\n",
       "      <td>Cuevas</td>\n",
       "      <td>F</td>\n",
       "      <td>paid</td>\n",
       "    </tr>\n",
       "    <tr>\n",
       "      <th>7</th>\n",
       "      <td>88</td>\n",
       "      <td>Mohammad</td>\n",
       "      <td>Rodriguez</td>\n",
       "      <td>M</td>\n",
       "      <td>free</td>\n",
       "    </tr>\n",
       "    <tr>\n",
       "      <th>23</th>\n",
       "      <td>10</td>\n",
       "      <td>Sylvie</td>\n",
       "      <td>Cruz</td>\n",
       "      <td>F</td>\n",
       "      <td>free</td>\n",
       "    </tr>\n",
       "    <tr>\n",
       "      <th>24</th>\n",
       "      <td>54</td>\n",
       "      <td>Kaleb</td>\n",
       "      <td>Cook</td>\n",
       "      <td>M</td>\n",
       "      <td>free</td>\n",
       "    </tr>\n",
       "    <tr>\n",
       "      <th>32</th>\n",
       "      <td>33</td>\n",
       "      <td>Bronson</td>\n",
       "      <td>Harris</td>\n",
       "      <td>M</td>\n",
       "      <td>free</td>\n",
       "    </tr>\n",
       "  </tbody>\n",
       "</table>\n",
       "</div>"
      ]
     },
     "metadata": {},
     "execution_count": 19
    }
   ],
   "metadata": {}
  },
  {
   "cell_type": "markdown",
   "source": [
    "#### Insert Records into Users Table\n",
    "Implement the `user_table_insert` query in `sql_queries.py` and run the cell below to insert records for the users in this log file into the `users` table. Remember to run `create_tables.py` before running the cell below to ensure you've created/resetted the `users` table in the sparkify database."
   ],
   "metadata": {}
  },
  {
   "cell_type": "code",
   "execution_count": null,
   "source": [
    "for i, row in user_df.iterrows():\n",
    "    cur.execute(user_table_insert, row)\n",
    "    conn.commit()"
   ],
   "outputs": [],
   "metadata": {}
  },
  {
   "cell_type": "markdown",
   "source": [
    "Run `test.ipynb` to see if you've successfully added records to this table."
   ],
   "metadata": {}
  },
  {
   "cell_type": "markdown",
   "source": [
    "## #5: `songplays` Table\n",
    "#### Extract Data and Songplays Table\n",
    "This one is a little more complicated since information from the songs table, artists table, and original log file are all needed for the `songplays` table. Since the log file does not specify an ID for either the song or the artist, you'll need to get the song ID and artist ID by querying the songs and artists tables to find matches based on song title, artist name, and song duration time.\n",
    "- Implement the `song_select` query in `sql_queries.py` to find the song ID and artist ID based on the title, artist name, and duration of a song.\n",
    "- Select the timestamp, user ID, level, song ID, artist ID, session ID, location, and user agent and set to `songplay_data`\n",
    "\n",
    "#### Insert Records into Songplays Table\n",
    "- Implement the `songplay_table_insert` query and run the cell below to insert records for the songplay actions in this log file into the `songplays` table. Remember to run `create_tables.py` before running the cell below to ensure you've created/resetted the `songplays` table in the sparkify database."
   ],
   "metadata": {}
  },
  {
   "cell_type": "code",
   "execution_count": null,
   "source": [
    "for index, row in df.iterrows():\n",
    "\n",
    "    # get songid and artistid from song and artist tables\n",
    "    cur.execute(song_select, (row.song, row.artist, row.length))\n",
    "    results = cur.fetchone()\n",
    "    if results:\n",
    "        songid, artistid = results\n",
    "        print(results)\n",
    "        print(\"YES\")\n",
    "    else:\n",
    "        songid, artistid = None, None\n",
    "\n",
    "    # insert songplay record\n",
    "    songplay_data = ( pd.to_datetime(row.ts), row.userId, row.level, \n",
    "    songid, artistid, row.sessionId, row.location, row.userAgent)\n",
    "    cur.execute(songplay_table_insert, songplay_data)\n",
    "    conn.commit()\n",
    "    \n"
   ],
   "outputs": [
    {
     "output_type": "stream",
     "name": "stdout",
     "text": [
      "Kenny G\n"
     ]
    },
    {
     "output_type": "error",
     "ename": "AttributeError",
     "evalue": "'Series' object has no attribute 'user_id'",
     "traceback": [
      "\u001b[0;31m---------------------------------------------------------------------------\u001b[0m",
      "\u001b[0;31mAttributeError\u001b[0m                            Traceback (most recent call last)",
      "\u001b[0;32m/tmp/ipykernel_26275/3394416629.py\u001b[0m in \u001b[0;36m<module>\u001b[0;34m\u001b[0m\n\u001b[1;32m     17\u001b[0m \u001b[0;34m\u001b[0m\u001b[0m\n\u001b[1;32m     18\u001b[0m     \u001b[0;31m# insert songplay record\u001b[0m\u001b[0;34m\u001b[0m\u001b[0;34m\u001b[0m\u001b[0;34m\u001b[0m\u001b[0m\n\u001b[0;32m---> 19\u001b[0;31m     songplay_data = (  time_df.timestamp[i], row.user_id[i], user_df.level[i], \n\u001b[0m\u001b[1;32m     20\u001b[0m     songid, artistid, row.sessionId, row.location, row.userAgent)\n\u001b[1;32m     21\u001b[0m     \u001b[0mcur\u001b[0m\u001b[0;34m.\u001b[0m\u001b[0mexecute\u001b[0m\u001b[0;34m(\u001b[0m\u001b[0msongplays_table_insert\u001b[0m\u001b[0;34m,\u001b[0m \u001b[0msongplay_data\u001b[0m\u001b[0;34m)\u001b[0m\u001b[0;34m\u001b[0m\u001b[0;34m\u001b[0m\u001b[0m\n",
      "\u001b[0;32m~/.local/share/virtualenvs/song_play_analysis-v2XOKfpf/lib/python3.9/site-packages/pandas/core/generic.py\u001b[0m in \u001b[0;36m__getattr__\u001b[0;34m(self, name)\u001b[0m\n\u001b[1;32m   5476\u001b[0m         ):\n\u001b[1;32m   5477\u001b[0m             \u001b[0;32mreturn\u001b[0m \u001b[0mself\u001b[0m\u001b[0;34m[\u001b[0m\u001b[0mname\u001b[0m\u001b[0;34m]\u001b[0m\u001b[0;34m\u001b[0m\u001b[0;34m\u001b[0m\u001b[0m\n\u001b[0;32m-> 5478\u001b[0;31m         \u001b[0;32mreturn\u001b[0m \u001b[0mobject\u001b[0m\u001b[0;34m.\u001b[0m\u001b[0m__getattribute__\u001b[0m\u001b[0;34m(\u001b[0m\u001b[0mself\u001b[0m\u001b[0;34m,\u001b[0m \u001b[0mname\u001b[0m\u001b[0;34m)\u001b[0m\u001b[0;34m\u001b[0m\u001b[0;34m\u001b[0m\u001b[0m\n\u001b[0m\u001b[1;32m   5479\u001b[0m \u001b[0;34m\u001b[0m\u001b[0m\n\u001b[1;32m   5480\u001b[0m     \u001b[0;32mdef\u001b[0m \u001b[0m__setattr__\u001b[0m\u001b[0;34m(\u001b[0m\u001b[0mself\u001b[0m\u001b[0;34m,\u001b[0m \u001b[0mname\u001b[0m\u001b[0;34m:\u001b[0m \u001b[0mstr\u001b[0m\u001b[0;34m,\u001b[0m \u001b[0mvalue\u001b[0m\u001b[0;34m)\u001b[0m \u001b[0;34m->\u001b[0m \u001b[0;32mNone\u001b[0m\u001b[0;34m:\u001b[0m\u001b[0;34m\u001b[0m\u001b[0;34m\u001b[0m\u001b[0m\n",
      "\u001b[0;31mAttributeError\u001b[0m: 'Series' object has no attribute 'user_id'"
     ]
    }
   ],
   "metadata": {}
  },
  {
   "cell_type": "markdown",
   "source": [
    "Run `test.ipynb` to see if you've successfully added records to this table."
   ],
   "metadata": {}
  },
  {
   "cell_type": "markdown",
   "source": [
    "# Close Connection to Sparkify Database"
   ],
   "metadata": {}
  },
  {
   "cell_type": "code",
   "execution_count": null,
   "source": [
    "conn.close()"
   ],
   "outputs": [],
   "metadata": {}
  },
  {
   "cell_type": "markdown",
   "source": [
    "# Implement `etl.py`\n",
    "Use what you've completed in this notebook to implement `etl.py`."
   ],
   "metadata": {}
  },
  {
   "cell_type": "code",
   "execution_count": null,
   "source": [],
   "outputs": [],
   "metadata": {}
  }
 ],
 "metadata": {
  "kernelspec": {
   "name": "python3",
   "display_name": "Python 3.9.5 64-bit ('song_play_analysis-v2XOKfpf': pipenv)"
  },
  "language_info": {
   "codemirror_mode": {
    "name": "ipython",
    "version": 3
   },
   "file_extension": ".py",
   "mimetype": "text/x-python",
   "name": "python",
   "nbconvert_exporter": "python",
   "pygments_lexer": "ipython3",
   "version": "3.9.5"
  },
  "interpreter": {
   "hash": "42eb90dff3c419f713542aa77864196f5f1d3300d2f0ee20b57cce6437ddddea"
  }
 },
 "nbformat": 4,
 "nbformat_minor": 2
}